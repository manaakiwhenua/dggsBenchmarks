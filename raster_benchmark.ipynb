{
 "cells": [
  {
   "cell_type": "markdown",
   "metadata": {},
   "source": [
    "### Generating Benchmark Data"
   ]
  },
  {
   "cell_type": "code",
   "execution_count": 1,
   "metadata": {},
   "outputs": [],
   "source": [
    "from Raster_benchmarking.generate_rasters import generate_nlm_rasters"
   ]
  },
  {
   "cell_type": "code",
   "execution_count": 2,
   "metadata": {},
   "outputs": [],
   "source": [
    "generate_nlm_rasters('./Raster_benchmarking/data', layers=100)"
   ]
  },
  {
   "cell_type": "markdown",
   "metadata": {},
   "source": [
    "# Running DGGS Benchmark"
   ]
  },
  {
   "cell_type": "code",
   "execution_count": 3,
   "metadata": {},
   "outputs": [],
   "source": [
    "import os\n",
    "from pathlib import Path\n",
    "import pandas as pd\n",
    "from joblib import Parallel, delayed\n",
    "from Raster_benchmarking.DGGS_funcs import h3index_raster"
   ]
  },
  {
   "cell_type": "code",
   "execution_count": 4,
   "metadata": {},
   "outputs": [],
   "source": [
    "discrete_dir = Path('Raster_benchmarking/data/discrete')\n",
    "continuous_dir = Path('Raster_benchmarking/data/continuous')\n",
    "output_dir = Path('Raster_benchmarking/data/dggs')\n",
    "\n",
    "num_files_to_open = 100 #Change to desired input number\n",
    "mode = lambda x: pd.Series.mode(x)[0]"
   ]
  },
  {
   "cell_type": "markdown",
   "metadata": {},
   "source": [
    "### Indexing"
   ]
  },
  {
   "cell_type": "markdown",
   "metadata": {},
   "source": [
    "##### Continuous files"
   ]
  },
  {
   "cell_type": "code",
   "execution_count": 5,
   "metadata": {},
   "outputs": [
    {
     "name": "stdout",
     "output_type": "stream",
     "text": [
      "CPU times: total: 172 ms\n",
      "Wall time: 6.83 s\n"
     ]
    }
   ],
   "source": [
    "%%time\n",
    "_ = Parallel(n_jobs=-1)(delayed(h3index_raster)(file, output_dir, stem='continuous', operation=mode) for file in list(sorted(continuous_dir.glob('*.asc')))[:num_files_to_open])"
   ]
  },
  {
   "cell_type": "markdown",
   "metadata": {},
   "source": [
    "##### Discrete files"
   ]
  },
  {
   "cell_type": "code",
   "execution_count": 6,
   "metadata": {},
   "outputs": [
    {
     "name": "stdout",
     "output_type": "stream",
     "text": [
      "CPU times: total: 109 ms\n",
      "Wall time: 4.75 s\n"
     ]
    }
   ],
   "source": [
    "%%time\n",
    "os.makedirs(output_dir, exist_ok=True)\n",
    "_ = Parallel(n_jobs=-1)(delayed(h3index_raster)(file, output_dir, stem='discrete', operation=mode) for file in list(sorted(discrete_dir.glob('*.asc')))[:num_files_to_open])"
   ]
  },
  {
   "cell_type": "markdown",
   "metadata": {},
   "source": [
    "### Join and Classify"
   ]
  },
  {
   "cell_type": "code",
   "execution_count": 7,
   "metadata": {},
   "outputs": [],
   "source": [
    "from Raster_benchmarking.DGGS_funcs import classify, summing, final_plotting"
   ]
  },
  {
   "cell_type": "code",
   "execution_count": 8,
   "metadata": {},
   "outputs": [],
   "source": [
    "c_files = list(output_dir.glob('continuous*.parquet'))\n",
    "d_files = list(output_dir.glob('discrete*.parquet'))"
   ]
  },
  {
   "cell_type": "markdown",
   "metadata": {},
   "source": [
    "##### Continuous files"
   ]
  },
  {
   "cell_type": "code",
   "execution_count": 9,
   "metadata": {},
   "outputs": [
    {
     "name": "stderr",
     "output_type": "stream",
     "text": [
      "Processing files: 100%|██████████| 100/100 [00:01<00:00, 53.11it/s]\n",
      "Joining DataFrames: 100%|██████████| 99/99 [00:00<00:00, 1903.51it/s]\n"
     ]
    }
   ],
   "source": [
    "cont_df = classify(c_files, num_files_to_open, scale=100)\n",
    "cont_df = summing(cont_df)"
   ]
  },
  {
   "cell_type": "code",
   "execution_count": 12,
   "metadata": {},
   "outputs": [
    {
     "ename": "AttributeError",
     "evalue": "'DataFrame' object has no attribute 'h3'",
     "output_type": "error",
     "traceback": [
      "\u001b[1;31m---------------------------------------------------------------------------\u001b[0m",
      "\u001b[1;31mAttributeError\u001b[0m                            Traceback (most recent call last)",
      "Cell \u001b[1;32mIn[12], line 1\u001b[0m\n\u001b[1;32m----> 1\u001b[0m \u001b[43mfinal_plotting\u001b[49m\u001b[43m(\u001b[49m\u001b[43mcont_df\u001b[49m\u001b[43m)\u001b[49m\n",
      "File \u001b[1;32me:\\Work\\benchmarks\\dggsBenchmarks\\Raster_benchmarking\\DGGS_funcs.py:122\u001b[0m, in \u001b[0;36mfinal_plotting\u001b[1;34m(combined_df)\u001b[0m\n\u001b[0;32m    120\u001b[0m \u001b[38;5;28;01mdef\u001b[39;00m \u001b[38;5;21mfinal_plotting\u001b[39m(combined_df):\n\u001b[1;32m--> 122\u001b[0m     h3_df \u001b[38;5;241m=\u001b[39m \u001b[43mcombined_df\u001b[49m\u001b[38;5;241;43m.\u001b[39;49m\u001b[43mh3\u001b[49m\u001b[38;5;241m.\u001b[39mh3_to_geo_boundary()\n\u001b[0;32m    124\u001b[0m     \u001b[38;5;66;03m# Dissolve by 'class' and reproject to CRS 2193\u001b[39;00m\n\u001b[0;32m    125\u001b[0m     h3_df \u001b[38;5;241m=\u001b[39m h3_df\u001b[38;5;241m.\u001b[39mdissolve(by\u001b[38;5;241m=\u001b[39m\u001b[38;5;124m'\u001b[39m\u001b[38;5;124mclass\u001b[39m\u001b[38;5;124m'\u001b[39m)\u001b[38;5;241m.\u001b[39mreset_index()\u001b[38;5;241m.\u001b[39mto_crs(\u001b[38;5;241m2193\u001b[39m)\n",
      "\u001b[1;31mAttributeError\u001b[0m: 'DataFrame' object has no attribute 'h3'"
     ]
    }
   ],
   "source": [
    "final_plotting(cont_df)"
   ]
  },
  {
   "cell_type": "markdown",
   "metadata": {},
   "source": [
    "##### Discrete files"
   ]
  },
  {
   "cell_type": "code",
   "execution_count": null,
   "metadata": {},
   "outputs": [],
   "source": [
    "disc_df = classify(d_files, num_files_to_open, scale=100)\n",
    "disc_df = summing(disc_df)"
   ]
  },
  {
   "cell_type": "code",
   "execution_count": null,
   "metadata": {},
   "outputs": [],
   "source": [
    "final_plotting(disc_df)"
   ]
  }
 ],
 "metadata": {
  "kernelspec": {
   "display_name": "dggs",
   "language": "python",
   "name": "python3"
  },
  "language_info": {
   "codemirror_mode": {
    "name": "ipython",
    "version": 3
   },
   "file_extension": ".py",
   "mimetype": "text/x-python",
   "name": "python",
   "nbconvert_exporter": "python",
   "pygments_lexer": "ipython3",
   "version": "3.11.9"
  }
 },
 "nbformat": 4,
 "nbformat_minor": 2
}
